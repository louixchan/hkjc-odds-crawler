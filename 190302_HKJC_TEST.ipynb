{
 "cells": [
  {
   "cell_type": "code",
   "execution_count": 1,
   "metadata": {},
   "outputs": [],
   "source": [
    "import requests\n",
    "import datetime\n",
    "import json\n",
    "import re\n",
    "from tqdm import trange, tqdm"
   ]
  },
  {
   "cell_type": "code",
   "execution_count": 2,
   "metadata": {},
   "outputs": [],
   "source": [
    "base_url = 'http://bet.hkjc.com'"
   ]
  },
  {
   "cell_type": "code",
   "execution_count": 3,
   "metadata": {},
   "outputs": [],
   "source": [
    "def parse_challenge(page):\n",
    "    \"\"\"\n",
    "    Parse a challenge given by mmi and mavat's web servers, forcing us to solve\n",
    "    some math stuff and send the result as a header to actually get the page.\n",
    "    This logic is pretty much copied from https://github.com/R3dy/jigsaw-rails/blob/master/lib/breakbot.rb\n",
    "    \"\"\"\n",
    "    top = page.split('<script>')[1].split('\\n')\n",
    "    challenge = top[1].split(';')[0].split('=')[1]\n",
    "    challenge_id = top[2].split(';')[0].split('=')[1]\n",
    "    return {'challenge': challenge, 'challenge_id': challenge_id, 'challenge_result': get_challenge_answer(challenge)}\n",
    "\n",
    "\n",
    "def get_challenge_answer(challenge):\n",
    "    \"\"\"\n",
    "    Solve the math part of the challenge and get the result\n",
    "    \"\"\"\n",
    "    arr = list(challenge)\n",
    "    last_digit = int(arr[-1])\n",
    "    arr.sort()\n",
    "    min_digit = int(arr[0])\n",
    "    subvar1 = (2 * int(arr[2])) + int(arr[1])\n",
    "    subvar2 = str(2 * int(arr[2])) + arr[1]\n",
    "    power = ((int(arr[0]) * 1) + 2) ** int(arr[1])\n",
    "    x = (int(challenge) * 3 + subvar1)\n",
    "    y = cos(pi * subvar1)\n",
    "    answer = x * y\n",
    "    answer -= power\n",
    "    answer += (min_digit - last_digit)\n",
    "    answer = str(int(floor(answer))) + subvar2\n",
    "    return answer"
   ]
  },
  {
   "cell_type": "code",
   "execution_count": 18,
   "metadata": {},
   "outputs": [],
   "source": [
    "class Team():\n",
    "    \n",
    "    id = ''\n",
    "    team_name=''\n",
    "    \n",
    "    def __init__(self, id, team_name):\n",
    "        \n",
    "        self.id = id\n",
    "        self.team_name = team_name\n",
    "        \n",
    "    def __str__(self):\n",
    "        \n",
    "        return f'{self.team_name} [{self.id}]'\n",
    "    \n",
    "class League():\n",
    "    \n",
    "    id = ''\n",
    "    short_name = ''\n",
    "    name = ''\n",
    "    \n",
    "    def __init__(self, id, short_name, name):\n",
    "        \n",
    "        self.id = id\n",
    "        self.short_name = short_name\n",
    "        self.name = name\n",
    "    \n",
    "class Match():\n",
    "    \n",
    "    date = None\n",
    "    time = None\n",
    "    id = None\n",
    "    num = None\n",
    "    short_id = None\n",
    "    \n",
    "    home_team = None\n",
    "    away_team = None\n",
    "    league = None\n",
    "    events = None\n",
    "    odds = {}\n",
    "    \n",
    "    def __init__(self, m):\n",
    "        \n",
    "        self.league = League(\n",
    "                m['league']['leagueID'], \n",
    "                m['league']['leagueShortName'], \n",
    "                m['league']['leagueNameEN']\n",
    "            ),\n",
    "        self.home_team = Team(\n",
    "                m['homeTeam']['teamID'],\n",
    "                m['homeTeam']['teamNameEN']\n",
    "            ),\n",
    "        self.away_team = Team(\n",
    "                m['awayTeam']['teamID'],\n",
    "                m['awayTeam']['teamNameEN']\n",
    "            )\n",
    "\n",
    "        self.events = m['liveEvent']['liveevent']\n",
    "        self.id = m['matchID']\n",
    "        self.num = m['matchNum']\n",
    "        self.date = m['matchDate']\n",
    "        self.time = m['matchTime']\n",
    "        self.short_id = m['matchIDinofficial']\n",
    "        \n",
    "        for o in [\n",
    "            'HAD', 'TQL', 'FHA', 'HHA', \n",
    "            'HDC', 'HIL', 'FHL', 'CHL', \n",
    "            'SPC', 'CRS', 'FCS', 'FTS', \n",
    "            'TTG', 'OOE', 'FGS', 'HFT'\n",
    "        ]:\n",
    "\n",
    "            if o in m:\n",
    "                self.odds[o] = m[f'{o.lower()}odds']\n",
    "            else:\n",
    "                self.odds[o] = None"
   ]
  },
  {
   "cell_type": "code",
   "execution_count": 19,
   "metadata": {},
   "outputs": [
    {
     "name": "stderr",
     "output_type": "stream",
     "text": [
      "100%|██████████| 98/98 [00:51<00:00,  1.91it/s]\n"
     ]
    }
   ],
   "source": [
    "matches = []\n",
    "\n",
    "session = requests.Session()\n",
    "r = session.get(base_url)\n",
    "yum = r.cookies\n",
    "\n",
    "odds_types = [\n",
    "    'HAD', 'TQL', 'FHA', 'HHA', \n",
    "    'HDC', 'HIL', 'FHL', 'CHL', \n",
    "    'SPC', 'CRS', 'FCS', 'FTS', \n",
    "    'TTG', 'OOE', 'FGS', 'HFT'\n",
    "]\n",
    "    \n",
    "for odds_name, odds_type_code in odds_type['football'].items():\n",
    "    \n",
    "    odds_url = f'{base_url}/football/getJSON.aspx?jsontype={odds_type_code}.aspx'\n",
    "    result = session.post(\n",
    "        odds_url,\n",
    "        headers=dict(referer=base_url),\n",
    "        cookies=yum\n",
    "    )\n",
    "    \n",
    "    response = json.loads(result.text)\n",
    "    \n",
    "    for j in tqdm(response):\n",
    "\n",
    "        if j['definedPools'] == []:\n",
    "            \n",
    "            odds_url = \\\n",
    "                f'{base_url}/football/getJSON.aspx?jsontype={odds_type_code}.aspx'\\\n",
    "                f'&matchid={j[\"matchID\"]}'\n",
    "            result = session.post(\n",
    "                odds_url,\n",
    "                headers=dict(referer=base_url),\n",
    "                cookies=yum\n",
    "            )\n",
    "            match = Match(next(\n",
    "                item for item in json.loads(result.text) if item[\"matchID\"] == j[\"matchID\"]\n",
    "            ))\n",
    "            \n",
    "        else:\n",
    "            \n",
    "            match = Match(j)"
   ]
  },
  {
   "cell_type": "code",
   "execution_count": 36,
   "metadata": {},
   "outputs": [
    {
     "name": "stdout",
     "output_type": "stream",
     "text": [
      "http://bet.hkjc.com/football/getJSON.aspx?jsontype=odds_had\n",
      "http://bet.hkjc.com/football/getJSON.aspx?jsontype=odds_tql\n",
      "http://bet.hkjc.com/football/getJSON.aspx?jsontype=odds_fha\n",
      "http://bet.hkjc.com/football/getJSON.aspx?jsontype=odds_hha\n",
      "http://bet.hkjc.com/football/getJSON.aspx?jsontype=odds_hdc\n",
      "http://bet.hkjc.com/football/getJSON.aspx?jsontype=odds_hil\n",
      "http://bet.hkjc.com/football/getJSON.aspx?jsontype=odds_fhl\n",
      "http://bet.hkjc.com/football/getJSON.aspx?jsontype=odds_chl\n",
      "http://bet.hkjc.com/football/getJSON.aspx?jsontype=odds_spc\n",
      "http://bet.hkjc.com/football/getJSON.aspx?jsontype=odds_crs\n",
      "http://bet.hkjc.com/football/getJSON.aspx?jsontype=odds_fcs\n",
      "http://bet.hkjc.com/football/getJSON.aspx?jsontype=odds_fts\n",
      "http://bet.hkjc.com/football/getJSON.aspx?jsontype=odds_ttg\n",
      "http://bet.hkjc.com/football/getJSON.aspx?jsontype=odds_ooe\n",
      "http://bet.hkjc.com/football/getJSON.aspx?jsontype=odds_fgs\n",
      "http://bet.hkjc.com/football/getJSON.aspx?jsontype=odds_HFT\n"
     ]
    }
   ],
   "source": [
    "for odds_name, odds_type_code in odds_type['football'].items():\n",
    "    \n",
    "    print(f'{base_url}/football/getJSON.aspx?jsontype={odds_type_code}')"
   ]
  },
  {
   "cell_type": "code",
   "execution_count": 5,
   "metadata": {},
   "outputs": [],
   "source": [
    "from datetime import datetime, timedelta"
   ]
  },
  {
   "cell_type": "code",
   "execution_count": 16,
   "metadata": {},
   "outputs": [
    {
     "data": {
      "text/plain": [
       "'20180101'"
      ]
     },
     "execution_count": 16,
     "metadata": {},
     "output_type": "execute_result"
    }
   ],
   "source": [
    "datetime.strftime(datetime(2018, 2, 1) + timedelta(days=-31), '%Y%m%d')"
   ]
  },
  {
   "cell_type": "code",
   "execution_count": 18,
   "metadata": {},
   "outputs": [
    {
     "data": {
      "text/plain": [
       "'20190303'"
      ]
     },
     "execution_count": 18,
     "metadata": {},
     "output_type": "execute_result"
    }
   ],
   "source": [
    "datetime.strftime(datetime.today(), '%Y%m%d')"
   ]
  },
  {
   "cell_type": "code",
   "execution_count": 20,
   "metadata": {},
   "outputs": [
    {
     "data": {
      "text/plain": [
       "'20190201'"
      ]
     },
     "execution_count": 20,
     "metadata": {},
     "output_type": "execute_result"
    }
   ],
   "source": [
    "datetime.strftime(datetime.today() + timedelta(days=-30), '%Y%m%d')"
   ]
  },
  {
   "cell_type": "code",
   "execution_count": 20,
   "metadata": {},
   "outputs": [],
   "source": [
    "from tqdm import trange\n",
    "from tqdm import tqdm_notebook as tqdm"
   ]
  },
  {
   "cell_type": "code",
   "execution_count": 21,
   "metadata": {
    "scrolled": true
   },
   "outputs": [
    {
     "name": "stdout",
     "output_type": "stream",
     "text": [
      "Start: 20190201\n",
      "End: 20190303\n"
     ]
    },
    {
     "data": {
      "application/vnd.jupyter.widget-view+json": {
       "model_id": "0302b73efbeb4fb38df116698f60c02e",
       "version_major": 2,
       "version_minor": 0
      },
      "text/plain": [
       "HBox(children=(IntProgress(value=0, description='pages', max=51), HTML(value='')))"
      ]
     },
     "metadata": {},
     "output_type": "display_data"
    },
    {
     "name": "stderr",
     "output_type": "stream",
     "text": [
      "\n",
      "\n",
      "\n",
      "\n",
      "\n",
      "\n",
      "Exception ignored in: <bound method tqdm.__del__ of pages:  76%|███████▋  | 39/51 [05:16<01:37,  8.11s/it]>\n",
      "Traceback (most recent call last):\n",
      "  File \"c:\\users\\admin\\appdata\\local\\programs\\python\\python36\\lib\\site-packages\\tqdm\\_tqdm.py\", line 882, in __del__\n",
      "    self.close()\n",
      "  File \"c:\\users\\admin\\appdata\\local\\programs\\python\\python36\\lib\\site-packages\\tqdm\\_tqdm.py\", line 1087, in close\n",
      "    self._decr_instances(self)\n",
      "  File \"c:\\users\\admin\\appdata\\local\\programs\\python\\python36\\lib\\site-packages\\tqdm\\_tqdm.py\", line 452, in _decr_instances\n",
      "    cls.monitor.exit()\n",
      "  File \"c:\\users\\admin\\appdata\\local\\programs\\python\\python36\\lib\\site-packages\\tqdm\\_monitor.py\", line 50, in exit\n",
      "    self.join()\n",
      "  File \"c:\\users\\admin\\appdata\\local\\programs\\python\\python36\\lib\\threading.py\", line 1053, in join\n",
      "    raise RuntimeError(\"cannot join current thread\")\n",
      "RuntimeError: cannot join current thread\n"
     ]
    },
    {
     "name": "stdout",
     "output_type": "stream",
     "text": [
      "\n",
      "Start: 20190101\n",
      "End: 20190131\n"
     ]
    },
    {
     "data": {
      "application/vnd.jupyter.widget-view+json": {
       "model_id": "9f5dc6f7a81a4f5783df7ee937cdd7eb",
       "version_major": 2,
       "version_minor": 0
      },
      "text/plain": [
       "HBox(children=(IntProgress(value=0, description='pages', max=36), HTML(value='')))"
      ]
     },
     "metadata": {},
     "output_type": "display_data"
    },
    {
     "name": "stdout",
     "output_type": "stream",
     "text": [
      "\n",
      "Start: 20181201\n",
      "End: 20181231\n"
     ]
    },
    {
     "data": {
      "application/vnd.jupyter.widget-view+json": {
       "model_id": "8a0e8e19c7ea4e6cb03807b46c793878",
       "version_major": 2,
       "version_minor": 0
      },
      "text/plain": [
       "HBox(children=(IntProgress(value=0, description='pages', max=45), HTML(value='')))"
      ]
     },
     "metadata": {},
     "output_type": "display_data"
    },
    {
     "ename": "IndexError",
     "evalue": "list index out of range",
     "output_type": "error",
     "traceback": [
      "\u001b[0;31m---------------------------------------------------------------------------\u001b[0m",
      "\u001b[0;31mIndexError\u001b[0m                                Traceback (most recent call last)",
      "\u001b[0;32m<ipython-input-21-cc95b09bf690>\u001b[0m in \u001b[0;36m<module>\u001b[0;34m()\u001b[0m\n\u001b[1;32m     45\u001b[0m         )\n\u001b[1;32m     46\u001b[0m \u001b[0;34m\u001b[0m\u001b[0m\n\u001b[0;32m---> 47\u001b[0;31m         \u001b[0mresponse\u001b[0m \u001b[0;34m=\u001b[0m \u001b[0mjson\u001b[0m\u001b[0;34m.\u001b[0m\u001b[0mloads\u001b[0m\u001b[0;34m(\u001b[0m\u001b[0mresult\u001b[0m\u001b[0;34m.\u001b[0m\u001b[0mtext\u001b[0m\u001b[0;34m)\u001b[0m\u001b[0;34m[\u001b[0m\u001b[0;36m0\u001b[0m\u001b[0;34m]\u001b[0m\u001b[0;34m\u001b[0m\u001b[0m\n\u001b[0m\u001b[1;32m     48\u001b[0m \u001b[0;34m\u001b[0m\u001b[0m\n\u001b[1;32m     49\u001b[0m         \u001b[0;32mfor\u001b[0m \u001b[0mm\u001b[0m \u001b[0;32min\u001b[0m \u001b[0mresponse\u001b[0m\u001b[0;34m[\u001b[0m\u001b[0;34m'matches'\u001b[0m\u001b[0;34m]\u001b[0m\u001b[0;34m:\u001b[0m\u001b[0;34m\u001b[0m\u001b[0m\n",
      "\u001b[0;31mIndexError\u001b[0m: list index out of range"
     ]
    }
   ],
   "source": [
    "enddate =  datetime.today()\n",
    "\n",
    "session = requests.Session()\n",
    "r = session.get(base_url)\n",
    "yum = r.cookies\n",
    "\n",
    "leagues = {}\n",
    "matches = {}\n",
    "\n",
    "for i in range(48):\n",
    "    \n",
    "    print('Start:', datetime.strftime(enddate + timedelta(days=-30), \"%Y%m%d\"))\n",
    "    print('End:', datetime.strftime(enddate, \"%Y%m%d\"))\n",
    "\n",
    "    search_url = 'https://bet.hkjc.com/football/getJSON.aspx?jsontype=search_result.aspx&startdate='\\\n",
    "        f'{datetime.strftime(enddate + timedelta(days=-30), \"%Y%m%d\")}&'\\\n",
    "        f'enddate={datetime.strftime(enddate, \"%Y%m%d\")}&teamid=default'\n",
    "    \n",
    "    result = session.post(\n",
    "        search_url,\n",
    "        headers=dict(referer=base_url),\n",
    "        cookies=yum\n",
    "    )\n",
    "    \n",
    "    response = json.loads(result.text)[0]\n",
    "    page_count = int(int(response['matchescount'])/20)\n",
    "    \n",
    "    for m in response['matches']:\n",
    "        \n",
    "        if m['league']['leagueShortName'] not in leagues:\n",
    "            \n",
    "            leagues[m['league']['leagueShortName']] = [m['league']['leagueID'], m['league']['leagueNameEN']]\n",
    "            matches[m['league']['leagueShortName']] = m\n",
    "            \n",
    "    for j in tqdm(range(page_count), desc='pages'):\n",
    "#     sleep(0.01)\n",
    "#     tqdm.write(f\"Done task {i}\")\n",
    "    \n",
    "#     for j in trange(page_count, desc='pages'):\n",
    "        \n",
    "        search_url = 'https://bet.hkjc.com/football/getJSON.aspx?jsontype=search_result.aspx&startdate='\\\n",
    "            f'{datetime.strftime(enddate + timedelta(days=-30), \"%Y%m%d\")}&'\\\n",
    "            f'enddate={datetime.strftime(enddate, \"%Y%m%d\")}&teamid=default&pageno={j + 2}'\n",
    "\n",
    "        result = session.post(\n",
    "            search_url,\n",
    "            headers=dict(referer=base_url),\n",
    "            cookies=yum\n",
    "        )\n",
    "\n",
    "        response = json.loads(result.text)[0]\n",
    "\n",
    "        for m in response['matches']:\n",
    "\n",
    "            if m['league']['leagueShortName'] not in leagues:\n",
    "\n",
    "                leagues[m['league']['leagueShortName']] = [m['league']['leagueID'], m['league']['leagueNameEN']]\n",
    "                matches[m['league']['leagueShortName']] = m\n",
    "                \n",
    "    \n",
    "    enddate += timedelta(days=-31)"
   ]
  },
  {
   "cell_type": "code",
   "execution_count": 25,
   "metadata": {},
   "outputs": [
    {
     "data": {
      "text/plain": [
       "{'ACL': ['90', \"QtWidgets.QCheckBox('Asian Champions League')'\"],\n",
       " 'AD1': ['89', \"QtWidgets.QCheckBox('Australian Division 1')'\"],\n",
       " 'AGC': ['117', \"QtWidgets.QCheckBox('Argentine Cup')'\"],\n",
       " 'APL': ['94', \"QtWidgets.QCheckBox('Argentine Division 1')'\"],\n",
       " 'ASC': ['47', \"QtWidgets.QCheckBox('Asian Cup')'\"],\n",
       " 'BD1': ['56', \"QtWidgets.QCheckBox('Brazilian Division 1')'\"],\n",
       " 'BFC': ['38', \"QtWidgets.QCheckBox('Belgian Cup')'\"],\n",
       " 'BFL': ['33', \"QtWidgets.QCheckBox('Belgian Division 1')'\"],\n",
       " 'BPC': ['118', \"QtWidgets.QCheckBox('Brazilian Paulista League')'\"],\n",
       " 'CD1': ['123', \"QtWidgets.QCheckBox('Chilean Division 1')'\"],\n",
       " 'CLB': ['72', \"QtWidgets.QCheckBox('Club Matches')'\"],\n",
       " 'CNC': ['100', \"QtWidgets.QCheckBox('Central and North American Cup')'\"],\n",
       " 'CWP': ['67', \"QtWidgets.QCheckBox('Club World Cup')'\"],\n",
       " 'DAC': ['39', \"QtWidgets.QCheckBox('Dutch Cup')'\"],\n",
       " 'DF2': ['104', \"QtWidgets.QCheckBox('Dutch Division 2')'\"],\n",
       " 'DFL': ['16', \"QtWidgets.QCheckBox('Dutch Division 1')'\"],\n",
       " 'ED1': ['29', \"QtWidgets.QCheckBox('Eng Championship')'\"],\n",
       " 'ED2': ['30', \"QtWidgets.QCheckBox('Eng League 1')'\"],\n",
       " 'ED3': ['101', \"QtWidgets.QCheckBox('Eng League 2')'\"],\n",
       " 'EFA': ['5', \"QtWidgets.QCheckBox('FA Cup')'\"],\n",
       " 'ELC': ['8', \"QtWidgets.QCheckBox('Eng League Cup')'\"],\n",
       " 'ELT': ['99', \"QtWidgets.QCheckBox('Eng League Trophy')'\"],\n",
       " 'EPL': ['1', \"QtWidgets.QCheckBox('Eng Premier')'\"],\n",
       " 'FF2': ['103', \"QtWidgets.QCheckBox('French Division 2')'\"],\n",
       " 'FFA': ['35', \"QtWidgets.QCheckBox('French FA Cup')'\"],\n",
       " 'FFC': ['28', \"QtWidgets.QCheckBox('French League Cup')'\"],\n",
       " 'FFL': ['14', \"QtWidgets.QCheckBox('French Division 1')'\"],\n",
       " 'GD2': ['54', \"QtWidgets.QCheckBox('German Division 2')'\"],\n",
       " 'GSC': ['11', \"QtWidgets.QCheckBox('German Cup')'\"],\n",
       " 'GSL': ['3', \"QtWidgets.QCheckBox('German Division 1')'\"],\n",
       " 'IFC': ['9', \"QtWidgets.QCheckBox('Italian Cup')'\"],\n",
       " 'ISA': ['2', \"QtWidgets.QCheckBox('Italian Division 1')'\"],\n",
       " 'ISC': ['51', \"QtWidgets.QCheckBox('Italian Super Cup')'\"],\n",
       " 'JD1': ['55', \"QtWidgets.QCheckBox('Japanese Division 1')'\"],\n",
       " 'JD2': ['87', \"QtWidgets.QCheckBox('Japanese Division 2')'\"],\n",
       " 'JEC': ['75', \"QtWidgets.QCheckBox('Emperor's Cup')'\"],\n",
       " 'JSC': ['70', \"QtWidgets.QCheckBox('Japanese Super Cup')'\"],\n",
       " 'KD1': ['88', \"QtWidgets.QCheckBox('Korean Division 1')'\"],\n",
       " 'KFA': ['148', \"QtWidgets.QCheckBox('Korean FA Cup')'\"],\n",
       " 'LBC': ['71', \"QtWidgets.QCheckBox('Copa Libertadores')'\"],\n",
       " 'MLS': ['79', \"QtWidgets.QCheckBox('US Football League')'\"],\n",
       " 'MXC': ['127', \"QtWidgets.QCheckBox('Mexican Cup')'\"],\n",
       " 'MXL': ['124', \"QtWidgets.QCheckBox('Mexican Premier')'\"],\n",
       " 'NTL': ['59', \"QtWidgets.QCheckBox('Norwegian Division 1')'\"],\n",
       " 'NWC': ['83', \"QtWidgets.QCheckBox('Norwegian Cup')'\"],\n",
       " 'PFC': ['40', \"QtWidgets.QCheckBox('Portuguese Cup')'\"],\n",
       " 'PFL': ['17', \"QtWidgets.QCheckBox('Portuguese Premier')'\"],\n",
       " 'PLC': ['86', \"QtWidgets.QCheckBox('Portuguese League Cup')'\"],\n",
       " 'RFC': ['126', \"QtWidgets.QCheckBox('Russian Cup')'\"],\n",
       " 'RPL': ['122', \"QtWidgets.QCheckBox('Russian Premier')'\"],\n",
       " 'SAC': ['106', \"QtWidgets.QCheckBox('South American Cup')'\"],\n",
       " 'SEC': ['91', \"QtWidgets.QCheckBox('South East Asian Championship')'\"],\n",
       " 'SFA': ['37', \"QtWidgets.QCheckBox('Scottish FA Cup')'\"],\n",
       " 'SFC': ['10', \"QtWidgets.QCheckBox('Spanish Cup')'\"],\n",
       " 'SFL': ['4', \"QtWidgets.QCheckBox('Spanish Division 1')'\"],\n",
       " 'SLC': ['36', \"QtWidgets.QCheckBox('Scottish League Cup')'\"],\n",
       " 'SPL': ['15', \"QtWidgets.QCheckBox('Scottish Premier')'\"],\n",
       " 'UCL': ['6', \"QtWidgets.QCheckBox('UE Champions')'\"],\n",
       " 'UEC': ['7', \"QtWidgets.QCheckBox('UE Cup')'\"]}"
      ]
     },
     "execution_count": 25,
     "metadata": {},
     "output_type": "execute_result"
    }
   ],
   "source": [
    "{x: [leagues[x][0], f\"QtWidgets.QCheckBox('{leagues[x][1]}')'\"] for x in leagues}"
   ]
  },
  {
   "cell_type": "code",
   "execution_count": 24,
   "metadata": {},
   "outputs": [
    {
     "data": {
      "text/plain": [
       "{'Cur': '1',\n",
       " 'accumulatedscore': [{'away': '0',\n",
       "   'home': '0',\n",
       "   'periodstatus': 'ResultFinal',\n",
       "   'periodvalue': 'FirstHalf'},\n",
       "  {'away': '3',\n",
       "   'home': '0',\n",
       "   'periodstatus': 'ResultFinal',\n",
       "   'periodvalue': 'SecondHalf'}],\n",
       " 'awayTeam': {'teamID': '16',\n",
       "  'teamNameCH': '樸茨茅夫',\n",
       "  'teamNameEN': 'Portsmouth'},\n",
       " 'cornerresult': '',\n",
       " 'coupon': {'couponID': '4',\n",
       "  'couponNameCH': '周二賽事',\n",
       "  'couponNameEN': 'Tuesday Matches',\n",
       "  'couponShortName': 'TUE'},\n",
       " 'crsodds': {'ALLUP': 'true',\n",
       "  'Cur': '1',\n",
       "  'ID': 'a8c85e32-0dda-4483-8e1a-156415e3c829',\n",
       "  'INPLAY': 'false',\n",
       "  'POOLSTATUS': 'Payout',\n",
       "  'S0000': '100@9.50',\n",
       "  'S0001': '100@8.25',\n",
       "  'S0002': '100@13.00',\n",
       "  'S0003': '100@28.00',\n",
       "  'S0004': '100@60.00',\n",
       "  'S0005': '100@200.0',\n",
       "  'S0100': '100@8.00',\n",
       "  'S0101': '100@6.20',\n",
       "  'S0102': '100@8.50',\n",
       "  'S0103': '100@20.00',\n",
       "  'S0104': '100@50.00',\n",
       "  'S0105': '100@150.0',\n",
       "  'S0200': '100@12.50',\n",
       "  'S0201': '100@8.25',\n",
       "  'S0202': '100@11.50',\n",
       "  'S0203': '100@23.00',\n",
       "  'S0204': '100@60.00',\n",
       "  'S0205': '100@200.0',\n",
       "  'S0300': '100@26.00',\n",
       "  'S0301': '100@20.00',\n",
       "  'S0302': '100@22.00',\n",
       "  'S0303': '100@50.00',\n",
       "  'S0400': '100@60.00',\n",
       "  'S0401': '100@50.00',\n",
       "  'S0402': '100@50.00',\n",
       "  'S0500': '100@200.0',\n",
       "  'S0501': '100@150.0',\n",
       "  'S0502': '100@200.0',\n",
       "  'SM1MA': '100@60.00',\n",
       "  'SM1MD': '100@250.0',\n",
       "  'SM1MH': '100@60.00'},\n",
       " 'definedPools': [],\n",
       " 'fcsodds': {'ALLUP': 'true',\n",
       "  'Cur': '1',\n",
       "  'ID': 'ea747f78-7f23-49f6-b950-631dbdb2ce3f',\n",
       "  'INPLAY': 'false',\n",
       "  'POOLSTATUS': 'Payout',\n",
       "  'S0000': '100@2.75',\n",
       "  'S0001': '100@4.30',\n",
       "  'S0002': '100@13.50',\n",
       "  'S0003': '100@50.00',\n",
       "  'S0004': '100@250.0',\n",
       "  'S0005': '100@800.0',\n",
       "  'S0100': '100@4.20',\n",
       "  'S0101': '100@6.75',\n",
       "  'S0102': '100@21.00',\n",
       "  'S0103': '100@70.00',\n",
       "  'S0104': '100@300.0',\n",
       "  'S0105': '100@900.0',\n",
       "  'S0200': '100@13.00',\n",
       "  'S0201': '100@20.00',\n",
       "  'S0202': '100@50.00',\n",
       "  'S0203': '100@200.0',\n",
       "  'S0204': '100@600.0',\n",
       "  'S0205': '100@2000',\n",
       "  'S0300': '100@50.00',\n",
       "  'S0301': '100@70.00',\n",
       "  'S0302': '100@200.0',\n",
       "  'S0303': '100@600.0',\n",
       "  'S0400': '100@250.0',\n",
       "  'S0401': '100@300.0',\n",
       "  'S0402': '100@600.0',\n",
       "  'S0500': '100@800.0',\n",
       "  'S0501': '100@900.0',\n",
       "  'S0502': '100@2000',\n",
       "  'SM1MA': '100@1000',\n",
       "  'SM1MD': '100@5000',\n",
       "  'SM1MH': '100@900.0'},\n",
       " 'fhaodds': {'A': '100@3.10',\n",
       "  'ALLUP': 'true',\n",
       "  'Cur': '1',\n",
       "  'D': '100@2.10',\n",
       "  'H': '100@3.05',\n",
       "  'ID': '3b3efd6f-800f-4025-96ab-e6ff6c110160',\n",
       "  'INPLAY': 'false',\n",
       "  'POOLSTATUS': 'Payout'},\n",
       " 'ftsodds': {'A': '100@1.97',\n",
       "  'ALLUP': 'true',\n",
       "  'Cur': '1',\n",
       "  'H': '100@1.94',\n",
       "  'ID': '059d0723-6a43-4e4a-b7b5-1780ae50cb9e',\n",
       "  'INPLAY': 'false',\n",
       "  'N': '100@9.50',\n",
       "  'POOLSTATUS': 'Payout'},\n",
       " 'hadodds': {'A': '100@2.48',\n",
       "  'ALLUP': 'true',\n",
       "  'Cur': '1',\n",
       "  'D': '100@3.25',\n",
       "  'H': '100@2.42',\n",
       "  'ID': '40f52a3a-34a7-448d-8547-63397e0f2a28',\n",
       "  'INPLAY': 'false',\n",
       "  'POOLSTATUS': 'Payout'},\n",
       " 'hasExtraTimePools': False,\n",
       " 'hasWebTV': False,\n",
       " 'hftodds': {'AA': '100@4.10',\n",
       "  'AD': '100@12.00',\n",
       "  'AH': '100@25.00',\n",
       "  'ALLUP': 'true',\n",
       "  'Cur': '1',\n",
       "  'DA': '100@6.00',\n",
       "  'DD': '100@5.70',\n",
       "  'DH': '100@5.90',\n",
       "  'HA': '100@26.00',\n",
       "  'HD': '100@12.00',\n",
       "  'HH': '100@3.90',\n",
       "  'ID': '9b59837a-88f8-441e-b35a-1be01ab5bfc4',\n",
       "  'INPLAY': 'false',\n",
       "  'POOLSTATUS': 'Payout'},\n",
       " 'homeTeam': {'teamID': '706', 'teamNameCH': '貝利', 'teamNameEN': 'Bury'},\n",
       " 'inplayPools': [],\n",
       " 'inplaydelay': 'false',\n",
       " 'league': {'leagueID': '99',\n",
       "  'leagueNameCH': '英格蘭聯賽錦標',\n",
       "  'leagueNameEN': 'Eng League Trophy',\n",
       "  'leagueShortName': 'ELT'},\n",
       " 'liveEvent': {'hasLiveInfo': True,\n",
       "  'ilcLiveDisplay': True,\n",
       "  'isIncomplete': False,\n",
       "  'liveevent': [{'actionType': 'Regular',\n",
       "    'homeaway': 'Away',\n",
       "    'minutesElasped': '61',\n",
       "    'order': 1,\n",
       "    'playerNameCH': 'Gareth Evans',\n",
       "    'playerNameEN': 'Gareth Evans'},\n",
       "   {'actionType': 'YellowCard',\n",
       "    'homeaway': 'Away',\n",
       "    'minutesElasped': '62',\n",
       "    'order': 2,\n",
       "    'playerNameCH': 'Gareth Evans',\n",
       "    'playerNameEN': 'Gareth Evans'},\n",
       "   {'actionType': 'Regular',\n",
       "    'homeaway': 'Away',\n",
       "    'minutesElasped': '64',\n",
       "    'order': 3,\n",
       "    'playerNameCH': '',\n",
       "    'playerNameEN': 'Oliver Hawkins'},\n",
       "   {'actionType': 'Regular',\n",
       "    'homeaway': 'Away',\n",
       "    'minutesElasped': '77',\n",
       "    'order': 4,\n",
       "    'playerNameCH': '',\n",
       "    'playerNameEN': 'Ronan Curtis'}],\n",
       "  'matchIDbetradar': '17154835',\n",
       "  'matchstate': 'EndedAfterFT',\n",
       "  'stateTS': '2019-02-27T05:51:19+08:00'},\n",
       " 'livescore': {'away': '3', 'home': '0'},\n",
       " 'matchDate': '2019-02-26+08:00',\n",
       " 'matchDay': 'TUE',\n",
       " 'matchID': '993b598f-edff-4984-b8d4-9afb1cf79f7f',\n",
       " 'matchIDinofficial': '20190226TUE9',\n",
       " 'matchNum': '9',\n",
       " 'matchStatus': 'ResultIn',\n",
       " 'matchTime': '2019-02-27T03:45:00+08:00',\n",
       " 'ooeodds': {'ALLUP': 'true',\n",
       "  'Cur': '1',\n",
       "  'E': '100@1.80',\n",
       "  'ID': 'cd1db36f-8b66-43ab-9971-64b5f07f1a8d',\n",
       "  'INPLAY': 'false',\n",
       "  'O': '100@1.90',\n",
       "  'POOLSTATUS': 'Payout'},\n",
       " 'results': {'CRS': '00:03',\n",
       "  'FCS': '00:00',\n",
       "  'FHA': 'D',\n",
       "  'FTS': 'A',\n",
       "  'HAD': 'A',\n",
       "  'HFT': 'D:A',\n",
       "  'OOE': 'O',\n",
       "  'TQL': 'A',\n",
       "  'TTG': '+3'},\n",
       " 'statuslastupdated': '2019-02-27T05:51:19+08:00',\n",
       " 'tqlodds': {'A': '100@1.87',\n",
       "  'ALLUP': 'false',\n",
       "  'Cur': '1',\n",
       "  'H': '100@1.83',\n",
       "  'ID': 'ea7ac0e6-8638-4d3c-b543-730cc29767a4',\n",
       "  'INPLAY': 'false',\n",
       "  'POOLSTATUS': 'Payout'},\n",
       " 'ttgodds': {'ALLUP': 'true',\n",
       "  'Cur': '1',\n",
       "  'ID': 'adfb41cf-c4c7-4087-a4f0-d5eaca263c3c',\n",
       "  'INPLAY': 'false',\n",
       "  'M7': '100@27.00',\n",
       "  'P0': '100@9.50',\n",
       "  'P1': '100@4.50',\n",
       "  'P2': '100@3.45',\n",
       "  'P3': '100@3.70',\n",
       "  'P4': '100@5.70',\n",
       "  'P5': '100@10.00',\n",
       "  'P6': '100@17.00',\n",
       "  'POOLSTATUS': 'Payout'}}"
      ]
     },
     "execution_count": 24,
     "metadata": {},
     "output_type": "execute_result"
    }
   ],
   "source": [
    "matches['ELT']"
   ]
  },
  {
   "cell_type": "code",
   "execution_count": null,
   "metadata": {},
   "outputs": [],
   "source": []
  }
 ],
 "metadata": {
  "kernelspec": {
   "display_name": "Python 3",
   "language": "python",
   "name": "python3"
  },
  "language_info": {
   "codemirror_mode": {
    "name": "ipython",
    "version": 3
   },
   "file_extension": ".py",
   "mimetype": "text/x-python",
   "name": "python",
   "nbconvert_exporter": "python",
   "pygments_lexer": "ipython3",
   "version": "3.6.5"
  }
 },
 "nbformat": 4,
 "nbformat_minor": 2
}
